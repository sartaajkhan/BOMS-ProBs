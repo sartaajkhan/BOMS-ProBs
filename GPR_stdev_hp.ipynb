{
 "cells": [
  {
   "cell_type": "markdown",
   "metadata": {},
   "source": [
    "This notebook focuses on using GPR (acq. func is EI) to perform BO to determine maximum heat transfer coeff. while doing hyperparameter tuning\n",
    "1. X -> Viscosity, density, thermal conductivity, heat capacity (thermophysical properties); y -> h\n",
    "2. Random sampling was done on indices of dataset and then did initial_X, initial_y = X[indices], y[indices]\n",
    "3. Using initial_X, initial_y, active learning loop was constructed (this is the base code for GPR BO)\n",
    "4. Comparison with random model was also done towards the end"
   ]
  },
  {
   "cell_type": "code",
   "execution_count": 1,
   "metadata": {},
   "outputs": [],
   "source": [
    "import numpy as np\n",
    "import matplotlib.pyplot as plt\n",
    "import pandas as pd\n",
    "from functools import partial\n",
    "from sklearn.gaussian_process import GaussianProcessRegressor\n",
    "from sklearn.gaussian_process.kernels import Matern\n",
    "from modAL.models import BayesianOptimizer\n",
    "from modAL.acquisition import optimizer_EI, max_EI #using EI as acq. function for now; can adjust\n",
    "\n",
    "import warnings\n",
    "%matplotlib inline"
   ]
  },
  {
   "cell_type": "code",
   "execution_count": 2,
   "metadata": {},
   "outputs": [],
   "source": [
    "df = pd.read_excel(\"dataset/Dataset.xlsx\")"
   ]
  },
  {
   "cell_type": "code",
   "execution_count": 3,
   "metadata": {},
   "outputs": [],
   "source": [
    "df_interest = df[['Viscosity (cP)', 'Density (kg/m^3)', 'Thermal Conductivity (W/m.k)', 'Heat Capacity (J/(kg.K))', 'Heat Transfer Coefficient']]"
   ]
  },
  {
   "cell_type": "code",
   "execution_count": 4,
   "metadata": {},
   "outputs": [],
   "source": [
    "X = df_interest[['Viscosity (cP)', 'Density (kg/m^3)', 'Thermal Conductivity (W/m.k)', 'Heat Capacity (J/(kg.K))']].to_numpy() #full X\n",
    "y = df_interest['Heat Transfer Coefficient'].to_numpy() #full y"
   ]
  },
  {
   "cell_type": "markdown",
   "metadata": {},
   "source": [
    "### For one run through GPR for n_iter = 50"
   ]
  },
  {
   "cell_type": "code",
   "execution_count": 6,
   "metadata": {},
   "outputs": [],
   "source": [
    "from models.models_with_hp import get_h_best, random_sampling, get_rank_best, kernel_tuning"
   ]
  },
  {
   "cell_type": "code",
   "execution_count": 7,
   "metadata": {},
   "outputs": [],
   "source": [
    "min_vals = np.min(X, axis = 0)\n",
    "max_vals = np.max(X, axis = 0)\n",
    "X_norm = (X - min_vals)/(max_vals - min_vals)"
   ]
  },
  {
   "cell_type": "code",
   "execution_count": 8,
   "metadata": {},
   "outputs": [
    {
     "data": {
      "text/plain": [
       "array([ 465, 1146,  545,  251,  523, 1023,  425,  683, 1103,  719])"
      ]
     },
     "execution_count": 8,
     "metadata": {},
     "output_type": "execute_result"
    }
   ],
   "source": [
    "indices = np.load('dataset/initial_indices.npy')\n",
    "indices"
   ]
  },
  {
   "cell_type": "code",
   "execution_count": 9,
   "metadata": {},
   "outputs": [],
   "source": [
    "initial_X, initial_y = X_norm[indices], y[indices]\n",
    "\n",
    "X_pool, y_pool = X_norm.copy(), y.copy()"
   ]
  },
  {
   "cell_type": "markdown",
   "metadata": {},
   "source": [
    "#### Kernel Tuning"
   ]
  },
  {
   "cell_type": "code",
   "execution_count": 10,
   "metadata": {},
   "outputs": [],
   "source": [
    "%run ker_hp.py"
   ]
  },
  {
   "cell_type": "code",
   "execution_count": 11,
   "metadata": {},
   "outputs": [
    {
     "name": "stderr",
     "output_type": "stream",
     "text": [
      "c:\\Users\\sarta\\anaconda3\\lib\\site-packages\\sklearn\\gaussian_process\\_gpr.py:629: ConvergenceWarning: lbfgs failed to converge (status=2):\n",
      "ABNORMAL_TERMINATION_IN_LNSRCH.\n",
      "\n",
      "Increase the number of iterations (max_iter) or scale the data as shown in:\n",
      "    https://scikit-learn.org/stable/modules/preprocessing.html\n",
      "  _check_optimize_result(\"lbfgs\", opt_res)\n",
      "c:\\Users\\sarta\\anaconda3\\lib\\site-packages\\sklearn\\gaussian_process\\_gpr.py:629: ConvergenceWarning: lbfgs failed to converge (status=2):\n",
      "ABNORMAL_TERMINATION_IN_LNSRCH.\n",
      "\n",
      "Increase the number of iterations (max_iter) or scale the data as shown in:\n",
      "    https://scikit-learn.org/stable/modules/preprocessing.html\n",
      "  _check_optimize_result(\"lbfgs\", opt_res)\n",
      "c:\\Users\\sarta\\anaconda3\\lib\\site-packages\\sklearn\\gaussian_process\\_gpr.py:629: ConvergenceWarning: lbfgs failed to converge (status=2):\n",
      "ABNORMAL_TERMINATION_IN_LNSRCH.\n",
      "\n",
      "Increase the number of iterations (max_iter) or scale the data as shown in:\n",
      "    https://scikit-learn.org/stable/modules/preprocessing.html\n",
      "  _check_optimize_result(\"lbfgs\", opt_res)\n",
      "c:\\Users\\sarta\\anaconda3\\lib\\site-packages\\sklearn\\gaussian_process\\kernels.py:420: ConvergenceWarning: The optimal value found for dimension 0 of parameter length_scale is close to the specified lower bound 1e-05. Decreasing the bound and calling fit again may find a better value.\n",
      "  warnings.warn(\n",
      "c:\\Users\\sarta\\anaconda3\\lib\\site-packages\\sklearn\\gaussian_process\\kernels.py:420: ConvergenceWarning: The optimal value found for dimension 0 of parameter length_scale is close to the specified lower bound 1e-05. Decreasing the bound and calling fit again may find a better value.\n",
      "  warnings.warn(\n",
      "c:\\Users\\sarta\\anaconda3\\lib\\site-packages\\sklearn\\gaussian_process\\kernels.py:420: ConvergenceWarning: The optimal value found for dimension 0 of parameter length_scale is close to the specified lower bound 1e-05. Decreasing the bound and calling fit again may find a better value.\n",
      "  warnings.warn(\n",
      "c:\\Users\\sarta\\anaconda3\\lib\\site-packages\\sklearn\\gaussian_process\\kernels.py:420: ConvergenceWarning: The optimal value found for dimension 0 of parameter length_scale is close to the specified lower bound 1e-05. Decreasing the bound and calling fit again may find a better value.\n",
      "  warnings.warn(\n",
      "c:\\Users\\sarta\\anaconda3\\lib\\site-packages\\sklearn\\gaussian_process\\kernels.py:420: ConvergenceWarning: The optimal value found for dimension 0 of parameter length_scale is close to the specified lower bound 1e-05. Decreasing the bound and calling fit again may find a better value.\n",
      "  warnings.warn(\n",
      "c:\\Users\\sarta\\anaconda3\\lib\\site-packages\\sklearn\\gaussian_process\\kernels.py:420: ConvergenceWarning: The optimal value found for dimension 0 of parameter length_scale is close to the specified lower bound 1e-05. Decreasing the bound and calling fit again may find a better value.\n",
      "  warnings.warn(\n",
      "c:\\Users\\sarta\\anaconda3\\lib\\site-packages\\sklearn\\gaussian_process\\kernels.py:420: ConvergenceWarning: The optimal value found for dimension 0 of parameter length_scale is close to the specified lower bound 1e-05. Decreasing the bound and calling fit again may find a better value.\n",
      "  warnings.warn(\n",
      "c:\\Users\\sarta\\anaconda3\\lib\\site-packages\\sklearn\\gaussian_process\\kernels.py:420: ConvergenceWarning: The optimal value found for dimension 0 of parameter length_scale is close to the specified lower bound 1e-05. Decreasing the bound and calling fit again may find a better value.\n",
      "  warnings.warn(\n",
      "c:\\Users\\sarta\\anaconda3\\lib\\site-packages\\sklearn\\gaussian_process\\kernels.py:420: ConvergenceWarning: The optimal value found for dimension 0 of parameter length_scale is close to the specified lower bound 1e-05. Decreasing the bound and calling fit again may find a better value.\n",
      "  warnings.warn(\n",
      "c:\\Users\\sarta\\anaconda3\\lib\\site-packages\\sklearn\\gaussian_process\\kernels.py:420: ConvergenceWarning: The optimal value found for dimension 0 of parameter length_scale is close to the specified lower bound 1e-05. Decreasing the bound and calling fit again may find a better value.\n",
      "  warnings.warn(\n",
      "c:\\Users\\sarta\\anaconda3\\lib\\site-packages\\sklearn\\gaussian_process\\kernels.py:420: ConvergenceWarning: The optimal value found for dimension 0 of parameter length_scale is close to the specified lower bound 1e-05. Decreasing the bound and calling fit again may find a better value.\n",
      "  warnings.warn(\n",
      "c:\\Users\\sarta\\anaconda3\\lib\\site-packages\\sklearn\\gaussian_process\\kernels.py:420: ConvergenceWarning: The optimal value found for dimension 0 of parameter length_scale is close to the specified lower bound 1e-05. Decreasing the bound and calling fit again may find a better value.\n",
      "  warnings.warn(\n",
      "c:\\Users\\sarta\\anaconda3\\lib\\site-packages\\sklearn\\gaussian_process\\kernels.py:420: ConvergenceWarning: The optimal value found for dimension 0 of parameter length_scale is close to the specified lower bound 1e-05. Decreasing the bound and calling fit again may find a better value.\n",
      "  warnings.warn(\n",
      "c:\\Users\\sarta\\anaconda3\\lib\\site-packages\\sklearn\\gaussian_process\\kernels.py:420: ConvergenceWarning: The optimal value found for dimension 0 of parameter length_scale is close to the specified lower bound 1e-05. Decreasing the bound and calling fit again may find a better value.\n",
      "  warnings.warn(\n",
      "c:\\Users\\sarta\\anaconda3\\lib\\site-packages\\sklearn\\gaussian_process\\kernels.py:420: ConvergenceWarning: The optimal value found for dimension 0 of parameter length_scale is close to the specified lower bound 1e-05. Decreasing the bound and calling fit again may find a better value.\n",
      "  warnings.warn(\n",
      "c:\\Users\\sarta\\anaconda3\\lib\\site-packages\\sklearn\\gaussian_process\\kernels.py:420: ConvergenceWarning: The optimal value found for dimension 0 of parameter length_scale is close to the specified lower bound 1e-05. Decreasing the bound and calling fit again may find a better value.\n",
      "  warnings.warn(\n",
      "c:\\Users\\sarta\\anaconda3\\lib\\site-packages\\sklearn\\gaussian_process\\kernels.py:420: ConvergenceWarning: The optimal value found for dimension 0 of parameter length_scale is close to the specified lower bound 1e-05. Decreasing the bound and calling fit again may find a better value.\n",
      "  warnings.warn(\n",
      "c:\\Users\\sarta\\anaconda3\\lib\\site-packages\\sklearn\\gaussian_process\\kernels.py:420: ConvergenceWarning: The optimal value found for dimension 0 of parameter length_scale is close to the specified lower bound 1e-05. Decreasing the bound and calling fit again may find a better value.\n",
      "  warnings.warn(\n",
      "c:\\Users\\sarta\\anaconda3\\lib\\site-packages\\sklearn\\gaussian_process\\kernels.py:420: ConvergenceWarning: The optimal value found for dimension 0 of parameter length_scale is close to the specified lower bound 1e-05. Decreasing the bound and calling fit again may find a better value.\n",
      "  warnings.warn(\n",
      "c:\\Users\\sarta\\anaconda3\\lib\\site-packages\\sklearn\\gaussian_process\\kernels.py:420: ConvergenceWarning: The optimal value found for dimension 0 of parameter length_scale is close to the specified lower bound 1e-05. Decreasing the bound and calling fit again may find a better value.\n",
      "  warnings.warn(\n",
      "c:\\Users\\sarta\\anaconda3\\lib\\site-packages\\sklearn\\gaussian_process\\kernels.py:420: ConvergenceWarning: The optimal value found for dimension 0 of parameter length_scale is close to the specified lower bound 1e-05. Decreasing the bound and calling fit again may find a better value.\n",
      "  warnings.warn(\n",
      "c:\\Users\\sarta\\anaconda3\\lib\\site-packages\\sklearn\\gaussian_process\\kernels.py:420: ConvergenceWarning: The optimal value found for dimension 0 of parameter length_scale is close to the specified lower bound 1e-05. Decreasing the bound and calling fit again may find a better value.\n",
      "  warnings.warn(\n",
      "c:\\Users\\sarta\\anaconda3\\lib\\site-packages\\sklearn\\gaussian_process\\kernels.py:420: ConvergenceWarning: The optimal value found for dimension 0 of parameter length_scale is close to the specified lower bound 1e-05. Decreasing the bound and calling fit again may find a better value.\n",
      "  warnings.warn(\n",
      "c:\\Users\\sarta\\anaconda3\\lib\\site-packages\\sklearn\\gaussian_process\\kernels.py:420: ConvergenceWarning: The optimal value found for dimension 0 of parameter length_scale is close to the specified lower bound 1e-05. Decreasing the bound and calling fit again may find a better value.\n",
      "  warnings.warn(\n",
      "c:\\Users\\sarta\\anaconda3\\lib\\site-packages\\sklearn\\gaussian_process\\kernels.py:420: ConvergenceWarning: The optimal value found for dimension 0 of parameter length_scale is close to the specified lower bound 1e-05. Decreasing the bound and calling fit again may find a better value.\n",
      "  warnings.warn(\n",
      "c:\\Users\\sarta\\anaconda3\\lib\\site-packages\\sklearn\\gaussian_process\\kernels.py:420: ConvergenceWarning: The optimal value found for dimension 0 of parameter length_scale is close to the specified lower bound 1e-05. Decreasing the bound and calling fit again may find a better value.\n",
      "  warnings.warn(\n",
      "c:\\Users\\sarta\\anaconda3\\lib\\site-packages\\sklearn\\gaussian_process\\kernels.py:420: ConvergenceWarning: The optimal value found for dimension 0 of parameter length_scale is close to the specified lower bound 1e-05. Decreasing the bound and calling fit again may find a better value.\n",
      "  warnings.warn(\n",
      "c:\\Users\\sarta\\anaconda3\\lib\\site-packages\\sklearn\\gaussian_process\\kernels.py:420: ConvergenceWarning: The optimal value found for dimension 0 of parameter length_scale is close to the specified lower bound 1e-05. Decreasing the bound and calling fit again may find a better value.\n",
      "  warnings.warn(\n",
      "c:\\Users\\sarta\\anaconda3\\lib\\site-packages\\sklearn\\gaussian_process\\_gpr.py:629: ConvergenceWarning: lbfgs failed to converge (status=2):\n",
      "ABNORMAL_TERMINATION_IN_LNSRCH.\n",
      "\n",
      "Increase the number of iterations (max_iter) or scale the data as shown in:\n",
      "    https://scikit-learn.org/stable/modules/preprocessing.html\n",
      "  _check_optimize_result(\"lbfgs\", opt_res)\n",
      "c:\\Users\\sarta\\anaconda3\\lib\\site-packages\\sklearn\\gaussian_process\\_gpr.py:629: ConvergenceWarning: lbfgs failed to converge (status=2):\n",
      "ABNORMAL_TERMINATION_IN_LNSRCH.\n",
      "\n",
      "Increase the number of iterations (max_iter) or scale the data as shown in:\n",
      "    https://scikit-learn.org/stable/modules/preprocessing.html\n",
      "  _check_optimize_result(\"lbfgs\", opt_res)\n",
      "c:\\Users\\sarta\\anaconda3\\lib\\site-packages\\sklearn\\gaussian_process\\_gpr.py:629: ConvergenceWarning: lbfgs failed to converge (status=2):\n",
      "ABNORMAL_TERMINATION_IN_LNSRCH.\n",
      "\n",
      "Increase the number of iterations (max_iter) or scale the data as shown in:\n",
      "    https://scikit-learn.org/stable/modules/preprocessing.html\n",
      "  _check_optimize_result(\"lbfgs\", opt_res)\n"
     ]
    }
   ],
   "source": [
    "best_kernel = kernel_tuning (initial_X, initial_y, X_pool, y_pool, kernel_array_stand_alone)\n",
    "warnings.filterwarnings('ignore')"
   ]
  },
  {
   "cell_type": "code",
   "execution_count": 18,
   "metadata": {},
   "outputs": [
    {
     "name": "stdout",
     "output_type": "stream",
     "text": [
      "Iteration num. 1\n"
     ]
    }
   ],
   "source": [
    "h_best, h_pred = get_h_best(initial_X, initial_y, X_pool, y_pool, kernel = best_kernel)"
   ]
  },
  {
   "cell_type": "code",
   "execution_count": 14,
   "metadata": {},
   "outputs": [
    {
     "data": {
      "text/plain": [
       "[DotProduct(sigma_0=0.01),\n",
       " DotProduct(sigma_0=0.0373),\n",
       " DotProduct(sigma_0=0.139),\n",
       " DotProduct(sigma_0=0.518),\n",
       " DotProduct(sigma_0=1.93),\n",
       " DotProduct(sigma_0=7.2),\n",
       " DotProduct(sigma_0=26.8),\n",
       " DotProduct(sigma_0=100),\n",
       " Matern(length_scale=0.01, nu=0.5),\n",
       " Matern(length_scale=0.01, nu=1.5),\n",
       " Matern(length_scale=0.01, nu=2.5),\n",
       " Matern(length_scale=0.0373, nu=0.5),\n",
       " Matern(length_scale=0.0373, nu=1.5),\n",
       " Matern(length_scale=0.0373, nu=2.5),\n",
       " Matern(length_scale=0.139, nu=0.5),\n",
       " Matern(length_scale=0.139, nu=1.5),\n",
       " Matern(length_scale=0.139, nu=2.5),\n",
       " Matern(length_scale=0.518, nu=0.5),\n",
       " Matern(length_scale=0.518, nu=1.5),\n",
       " Matern(length_scale=0.518, nu=2.5),\n",
       " Matern(length_scale=1.93, nu=0.5),\n",
       " Matern(length_scale=1.93, nu=1.5),\n",
       " Matern(length_scale=1.93, nu=2.5),\n",
       " Matern(length_scale=7.2, nu=0.5),\n",
       " Matern(length_scale=7.2, nu=1.5),\n",
       " Matern(length_scale=7.2, nu=2.5),\n",
       " Matern(length_scale=26.8, nu=0.5),\n",
       " Matern(length_scale=26.8, nu=1.5),\n",
       " Matern(length_scale=26.8, nu=2.5),\n",
       " Matern(length_scale=100, nu=0.5),\n",
       " Matern(length_scale=100, nu=1.5),\n",
       " Matern(length_scale=100, nu=2.5),\n",
       " RBF(length_scale=0.01),\n",
       " RBF(length_scale=0.0373),\n",
       " RBF(length_scale=0.139),\n",
       " RBF(length_scale=0.518),\n",
       " RBF(length_scale=1.93),\n",
       " RBF(length_scale=7.2),\n",
       " RBF(length_scale=26.8),\n",
       " RBF(length_scale=100),\n",
       " RationalQuadratic(alpha=0.01, length_scale=0.01),\n",
       " RationalQuadratic(alpha=0.0373, length_scale=0.01),\n",
       " RationalQuadratic(alpha=0.139, length_scale=0.01),\n",
       " RationalQuadratic(alpha=0.518, length_scale=0.01),\n",
       " RationalQuadratic(alpha=1.93, length_scale=0.01),\n",
       " RationalQuadratic(alpha=7.2, length_scale=0.01),\n",
       " RationalQuadratic(alpha=26.8, length_scale=0.01),\n",
       " RationalQuadratic(alpha=100, length_scale=0.01),\n",
       " RationalQuadratic(alpha=0.01, length_scale=0.0373),\n",
       " RationalQuadratic(alpha=0.0373, length_scale=0.0373),\n",
       " RationalQuadratic(alpha=0.139, length_scale=0.0373),\n",
       " RationalQuadratic(alpha=0.518, length_scale=0.0373),\n",
       " RationalQuadratic(alpha=1.93, length_scale=0.0373),\n",
       " RationalQuadratic(alpha=7.2, length_scale=0.0373),\n",
       " RationalQuadratic(alpha=26.8, length_scale=0.0373),\n",
       " RationalQuadratic(alpha=100, length_scale=0.0373),\n",
       " RationalQuadratic(alpha=0.01, length_scale=0.139),\n",
       " RationalQuadratic(alpha=0.0373, length_scale=0.139),\n",
       " RationalQuadratic(alpha=0.139, length_scale=0.139),\n",
       " RationalQuadratic(alpha=0.518, length_scale=0.139),\n",
       " RationalQuadratic(alpha=1.93, length_scale=0.139),\n",
       " RationalQuadratic(alpha=7.2, length_scale=0.139),\n",
       " RationalQuadratic(alpha=26.8, length_scale=0.139),\n",
       " RationalQuadratic(alpha=100, length_scale=0.139),\n",
       " RationalQuadratic(alpha=0.01, length_scale=0.518),\n",
       " RationalQuadratic(alpha=0.0373, length_scale=0.518),\n",
       " RationalQuadratic(alpha=0.139, length_scale=0.518),\n",
       " RationalQuadratic(alpha=0.518, length_scale=0.518),\n",
       " RationalQuadratic(alpha=1.93, length_scale=0.518),\n",
       " RationalQuadratic(alpha=7.2, length_scale=0.518),\n",
       " RationalQuadratic(alpha=26.8, length_scale=0.518),\n",
       " RationalQuadratic(alpha=100, length_scale=0.518),\n",
       " RationalQuadratic(alpha=0.01, length_scale=1.93),\n",
       " RationalQuadratic(alpha=0.0373, length_scale=1.93),\n",
       " RationalQuadratic(alpha=0.139, length_scale=1.93),\n",
       " RationalQuadratic(alpha=0.518, length_scale=1.93),\n",
       " RationalQuadratic(alpha=1.93, length_scale=1.93),\n",
       " RationalQuadratic(alpha=7.2, length_scale=1.93),\n",
       " RationalQuadratic(alpha=26.8, length_scale=1.93),\n",
       " RationalQuadratic(alpha=100, length_scale=1.93),\n",
       " RationalQuadratic(alpha=0.01, length_scale=7.2),\n",
       " RationalQuadratic(alpha=0.0373, length_scale=7.2),\n",
       " RationalQuadratic(alpha=0.139, length_scale=7.2),\n",
       " RationalQuadratic(alpha=0.518, length_scale=7.2),\n",
       " RationalQuadratic(alpha=1.93, length_scale=7.2),\n",
       " RationalQuadratic(alpha=7.2, length_scale=7.2),\n",
       " RationalQuadratic(alpha=26.8, length_scale=7.2),\n",
       " RationalQuadratic(alpha=100, length_scale=7.2),\n",
       " RationalQuadratic(alpha=0.01, length_scale=26.8),\n",
       " RationalQuadratic(alpha=0.0373, length_scale=26.8),\n",
       " RationalQuadratic(alpha=0.139, length_scale=26.8),\n",
       " RationalQuadratic(alpha=0.518, length_scale=26.8),\n",
       " RationalQuadratic(alpha=1.93, length_scale=26.8),\n",
       " RationalQuadratic(alpha=7.2, length_scale=26.8),\n",
       " RationalQuadratic(alpha=26.8, length_scale=26.8),\n",
       " RationalQuadratic(alpha=100, length_scale=26.8),\n",
       " RationalQuadratic(alpha=0.01, length_scale=100),\n",
       " RationalQuadratic(alpha=0.0373, length_scale=100),\n",
       " RationalQuadratic(alpha=0.139, length_scale=100),\n",
       " RationalQuadratic(alpha=0.518, length_scale=100),\n",
       " RationalQuadratic(alpha=1.93, length_scale=100),\n",
       " RationalQuadratic(alpha=7.2, length_scale=100),\n",
       " RationalQuadratic(alpha=26.8, length_scale=100),\n",
       " RationalQuadratic(alpha=100, length_scale=100),\n",
       " WhiteKernel(noise_level=0.01),\n",
       " WhiteKernel(noise_level=0.0373),\n",
       " WhiteKernel(noise_level=0.139),\n",
       " WhiteKernel(noise_level=0.518),\n",
       " WhiteKernel(noise_level=1.93),\n",
       " WhiteKernel(noise_level=7.2),\n",
       " WhiteKernel(noise_level=26.8),\n",
       " WhiteKernel(noise_level=100)]"
      ]
     },
     "execution_count": 14,
     "metadata": {},
     "output_type": "execute_result"
    }
   ],
   "source": [
    "kernel_array_stand_alone"
   ]
  },
  {
   "cell_type": "code",
   "execution_count": 17,
   "metadata": {},
   "outputs": [
    {
     "name": "stdout",
     "output_type": "stream",
     "text": [
      "Iteration num. 1\n",
      "Iteration num. 1\n",
      "Iteration num. 1\n",
      "Iteration num. 1\n",
      "Iteration num. 1\n"
     ]
    }
   ],
   "source": [
    "h_best_2 = []\n",
    "iter = 0\n",
    "for kermel_type in [DotProduct(sigma_0=0.01), Matern(length_scale=7.2, nu=0.5), RBF(length_scale=100), RationalQuadratic(alpha=1.93, length_scale=0.01), WhiteKernel(noise_level=0.139)]:\n",
    "    h_best_2.append(get_h_best(initial_X, initial_y, X_pool, y_pool, kernel = kermel_type)[0])\n"
   ]
  },
  {
   "cell_type": "code",
   "execution_count": 25,
   "metadata": {},
   "outputs": [
    {
     "data": {
      "image/png": "[encoded data removed]",
      "text/plain": [
       "<Figure size 936x576 with 1 Axes>"
      ]
     },
     "metadata": {
      "needs_background": "light"
     },
     "output_type": "display_data"
    }
   ],
   "source": [
    "n_iterations = 50\n",
    "\n",
    "plt.figure(figsize = (13, 8))\n",
    "plt.plot(h_best)\n",
    "for kernel_result in h_best_2:\n",
    "    plt.plot(kernel_result)\n",
    "\n",
    "plt.plot(np.linspace(0, n_iterations, n_iterations), [np.max(y)]*n_iterations, 'r--')\n",
    "\n",
    "\n",
    "plt.xlabel('n_iter', fontsize = 14)\n",
    "plt.ylabel('Best h', fontsize = 14)\n",
    "plt.tick_params(axis='both', which='major', labelsize=14)\n",
    "\n",
    "plt.legend(['Matern(length_scale = 1.5)','DotProduct','Matern(length_scale=7.2)', 'RBF', 'RationalQuadratic', 'WhiteKernel', 'max(h)'], fontsize = 12)\n",
    "plt.xlim([0, 30])\n",
    "plt.savefig('figures/kernel_analysis.svg')\n",
    "plt.show()"
   ]
  },
  {
   "cell_type": "code",
   "execution_count": null,
   "metadata": {},
   "outputs": [],
   "source": []
  },
  {
   "cell_type": "code",
   "execution_count": null,
   "metadata": {},
   "outputs": [],
   "source": []
  }
 ],
 "metadata": {
  "kernelspec": {
   "display_name": "Python 3 (ipykernel)",
   "language": "python",
   "name": "python3"
  },
  "language_info": {
   "codemirror_mode": {
    "name": "ipython",
    "version": 3
   },
   "file_extension": ".py",
   "mimetype": "text/x-python",
   "name": "python",
   "nbconvert_exporter": "python",
   "pygments_lexer": "ipython3",
   "version": "3.9.7"
  }
 },
 "nbformat": 4,
 "nbformat_minor": 2
}
